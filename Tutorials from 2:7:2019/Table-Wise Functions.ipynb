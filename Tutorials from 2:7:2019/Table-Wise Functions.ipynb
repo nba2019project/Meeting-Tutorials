{
 "cells": [
  {
   "cell_type": "markdown",
   "metadata": {},
   "source": [
    "Table-wise functions as taken from https://www.tutorialspoint.com/python_pandas/python_pandas_function_application.htm"
   ]
  },
  {
   "cell_type": "code",
   "execution_count": 2,
   "metadata": {
    "collapsed": true
   },
   "outputs": [],
   "source": [
    "import numpy as np\n",
    "import pandas as pd"
   ]
  },
  {
   "cell_type": "code",
   "execution_count": 4,
   "metadata": {
    "collapsed": false
   },
   "outputs": [
    {
     "name": "stdout",
     "output_type": "stream",
     "text": [
      "       col1      col2      col3\n",
      "0  0.313281  0.409340  0.457341\n",
      "1  0.951622  1.415148  0.462158\n",
      "2 -1.308850 -0.031640  1.387701\n",
      "3  2.093822  1.006021  1.739814\n",
      "4 -0.845375  0.580417 -0.643794\n",
      "       col1      col2      col3\n",
      "0  2.313281  2.409340  2.457341\n",
      "1  2.951622  3.415148  2.462158\n",
      "2  0.691150  1.968360  3.387701\n",
      "3  4.093822  3.006021  3.739814\n",
      "4  1.154625  2.580417  1.356206\n"
     ]
    }
   ],
   "source": [
    "#Table-wise Function Application - define a function and \n",
    "def adder(el_1, el_2):\n",
    "    return el_1 + el_2\n",
    "df = pd.DataFrame(np.random.randn(5,3),columns=['col1','col2','col3'])\n",
    "print(df)\n",
    "#applies function adder to every element in df along with argument 2\n",
    "print(df.pipe(adder,2))"
   ]
  },
  {
   "cell_type": "code",
   "execution_count": 7,
   "metadata": {
    "collapsed": false
   },
   "outputs": [
    {
     "name": "stdout",
     "output_type": "stream",
     "text": [
      "col1    0.240900\n",
      "col2    0.675857\n",
      "col3    0.680644\n",
      "dtype: float64\n"
     ]
    },
    {
     "data": {
      "text/html": [
       "<div>\n",
       "<table border=\"1\" class=\"dataframe\">\n",
       "  <thead>\n",
       "    <tr style=\"text-align: right;\">\n",
       "      <th></th>\n",
       "      <th>col1</th>\n",
       "      <th>col2</th>\n",
       "      <th>col3</th>\n",
       "    </tr>\n",
       "  </thead>\n",
       "  <tbody>\n",
       "    <tr>\n",
       "      <th>0</th>\n",
       "      <td>0.313281</td>\n",
       "      <td>0.409340</td>\n",
       "      <td>0.457341</td>\n",
       "    </tr>\n",
       "    <tr>\n",
       "      <th>1</th>\n",
       "      <td>0.951622</td>\n",
       "      <td>1.415148</td>\n",
       "      <td>0.462158</td>\n",
       "    </tr>\n",
       "    <tr>\n",
       "      <th>2</th>\n",
       "      <td>-1.308850</td>\n",
       "      <td>-0.031640</td>\n",
       "      <td>1.387701</td>\n",
       "    </tr>\n",
       "    <tr>\n",
       "      <th>3</th>\n",
       "      <td>2.093822</td>\n",
       "      <td>1.006021</td>\n",
       "      <td>1.739814</td>\n",
       "    </tr>\n",
       "    <tr>\n",
       "      <th>4</th>\n",
       "      <td>-0.845375</td>\n",
       "      <td>0.580417</td>\n",
       "      <td>-0.643794</td>\n",
       "    </tr>\n",
       "  </tbody>\n",
       "</table>\n",
       "</div>"
      ],
      "text/plain": [
       "       col1      col2      col3\n",
       "0  0.313281  0.409340  0.457341\n",
       "1  0.951622  1.415148  0.462158\n",
       "2 -1.308850 -0.031640  1.387701\n",
       "3  2.093822  1.006021  1.739814\n",
       "4 -0.845375  0.580417 -0.643794"
      ]
     },
     "execution_count": 7,
     "metadata": {},
     "output_type": "execute_result"
    }
   ],
   "source": [
    "#Apply performs column-wise changes to the dataframe; results show the avg column by column\n",
    "print(df.apply(np.mean))"
   ]
  },
  {
   "cell_type": "code",
   "execution_count": 8,
   "metadata": {
    "collapsed": false
   },
   "outputs": [
    {
     "name": "stdout",
     "output_type": "stream",
     "text": [
      "         col1        col2        col3\n",
      "0   31.328069   40.933963   45.734066\n",
      "1   95.162197  141.514811   46.215798\n",
      "2 -130.885011   -3.163957  138.770070\n",
      "3  209.382178  100.602121  173.981354\n",
      "4  -84.537484   58.041722  -64.379365\n"
     ]
    }
   ],
   "source": [
    "#Apply element-wise changes to dataframe using the applymap function; code below multiplies every element in df by 100\n",
    "print(df.applymap(lambda x:x*100))"
   ]
  },
  {
   "cell_type": "code",
   "execution_count": 11,
   "metadata": {
    "collapsed": false
   },
   "outputs": [
    {
     "name": "stdout",
     "output_type": "stream",
     "text": [
      "            A       C           D     x         y\n",
      "0  2016-01-01  Medium   77.077069   0.0  0.374716\n",
      "1  2016-01-02     Low  106.840689   1.0  0.253132\n",
      "2  2016-01-03     Low   89.831835   2.0  0.334890\n",
      "3  2016-01-04    High   99.031716   3.0  0.306382\n",
      "4  2016-01-05     Low   94.041233   4.0  0.680890\n",
      "5  2016-01-06  Medium   91.061000   5.0  0.200855\n",
      "6  2016-01-07  Medium  104.377500   6.0  0.711942\n",
      "7  2016-01-08    High   97.136818   7.0  0.987762\n",
      "8  2016-01-09     Low  106.319802   8.0  0.328427\n",
      "9  2016-01-10    High  102.934321   9.0  0.821126\n",
      "10 2016-01-11  Medium   95.131264  10.0  0.976571\n",
      "11 2016-01-12    High  112.102360  11.0  0.563189\n",
      "12 2016-01-13  Medium   89.040268  12.0  0.389725\n",
      "13 2016-01-14     Low   95.281643  13.0  0.339035\n",
      "14 2016-01-15     Low   82.971247  14.0  0.179539\n",
      "15 2016-01-16     Low  109.983983  15.0  0.959838\n",
      "16 2016-01-17     Low   97.782516  16.0  0.334872\n",
      "17 2016-01-18  Medium  105.613435  17.0  0.319831\n",
      "18 2016-01-19     Low  111.455473  18.0  0.126516\n",
      "19 2016-01-20     Low  102.962156  19.0  0.393373\n",
      "           A       C   B\n",
      "0 2016-01-01  Medium NaN\n",
      "2 2016-01-03     Low NaN\n",
      "5 2016-01-06  Medium NaN\n"
     ]
    }
   ],
   "source": [
    "#can use the reindex function on a dataframe to perform reindexing and change the column names associated with cols of data\n",
    "N=20\n",
    "\n",
    "df = pd.DataFrame({\n",
    "   'A': pd.date_range(start='2016-01-01',periods=N,freq='D'),\n",
    "   'x': np.linspace(0,stop=N-1,num=N),\n",
    "   'y': np.random.rand(N),\n",
    "   'C': np.random.choice(['Low','Medium','High'],N).tolist(),\n",
    "   'D': np.random.normal(100, 10, size=(N)).tolist()\n",
    "})\n",
    "\n",
    "print(df)\n",
    "\n",
    "#reindex the DataFrame - will get the rows 0, 2, 5 and columns A, C, B (B doesn't exist in original df)\n",
    "df_reindexed = df.reindex(index=[0,2,5], columns=['A', 'C', 'B'])\n",
    "\n",
    "print(df_reindexed)"
   ]
  },
  {
   "cell_type": "code",
   "execution_count": 13,
   "metadata": {
    "collapsed": false
   },
   "outputs": [
    {
     "name": "stdout",
     "output_type": "stream",
     "text": [
      "   Marks_scored    Name subject_id\n",
      "1            98    Alex       sub1\n",
      "2            90     Amy       sub2\n",
      "3            87   Allen       sub4\n",
      "4            69   Alice       sub6\n",
      "5            78  Ayoung       sub5\n",
      "1            89   Billy       sub2\n",
      "2            80   Brian       sub4\n",
      "3            79    Bran       sub3\n",
      "4            97   Bryce       sub6\n",
      "5            88   Betty       sub5\n"
     ]
    }
   ],
   "source": [
    "#concatenating two dataframes (i.e. adding the rows of one df to the rows of another)\n",
    "one = pd.DataFrame({\n",
    "   'Name': ['Alex', 'Amy', 'Allen', 'Alice', 'Ayoung'],\n",
    "   'subject_id':['sub1','sub2','sub4','sub6','sub5'],\n",
    "   'Marks_scored':[98,90,87,69,78]},\n",
    "   index=[1,2,3,4,5])\n",
    "\n",
    "two = pd.DataFrame({\n",
    "   'Name': ['Billy', 'Brian', 'Bran', 'Bryce', 'Betty'],\n",
    "   'subject_id':['sub2','sub4','sub3','sub6','sub5'],\n",
    "   'Marks_scored':[89,80,79,97,88]},\n",
    "   index=[1,2,3,4,5])\n",
    "print(pd.concat([one,two]))"
   ]
  },
  {
   "cell_type": "code",
   "execution_count": 14,
   "metadata": {
    "collapsed": false
   },
   "outputs": [
    {
     "name": "stdout",
     "output_type": "stream",
     "text": [
      "[a, b, c, a, b, c, NaN]\n",
      "Categories (3, object): [c, b, a]\n"
     ]
    }
   ],
   "source": [
    "#Can use the categorical function from pd to deal with categorical data and perform some useful functions\n",
    "#The function has the following signature - pandas.Categorical(values, categories, ordered)\n",
    "cat = pd.Categorical(['a','b','c','a','b','c','d'], ['c', 'b', 'a'])\n",
    "print(cat)"
   ]
  },
  {
   "cell_type": "code",
   "execution_count": null,
   "metadata": {
    "collapsed": true
   },
   "outputs": [],
   "source": []
  }
 ],
 "metadata": {
  "kernelspec": {
   "display_name": "Python 3",
   "language": "python",
   "name": "python3"
  },
  "language_info": {
   "codemirror_mode": {
    "name": "ipython",
    "version": 3
   },
   "file_extension": ".py",
   "mimetype": "text/x-python",
   "name": "python",
   "nbconvert_exporter": "python",
   "pygments_lexer": "ipython3",
   "version": "3.6.0"
  }
 },
 "nbformat": 4,
 "nbformat_minor": 2
}
