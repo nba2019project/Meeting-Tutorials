{
 "cells": [
  {
   "cell_type": "code",
   "execution_count": 12,
   "metadata": {
    "collapsed": true
   },
   "outputs": [],
   "source": [
    "import numpy as np\n",
    "import pandas as pd"
   ]
  },
  {
   "cell_type": "code",
   "execution_count": 30,
   "metadata": {
    "collapsed": false
   },
   "outputs": [],
   "source": [
    "#Read in player data from external CSV\n",
    "player_season_stats = pd.read_csv(\"nba-players-stats/Seasons_Stats.csv\")\n",
    "team_season_stats = pd.read_csv(\"team_records/Team_Records.csv\")"
   ]
  },
  {
   "cell_type": "code",
   "execution_count": 31,
   "metadata": {
    "collapsed": false
   },
   "outputs": [
    {
     "name": "stdout",
     "output_type": "stream",
     "text": [
      "1483\n",
      "    Season   Lg            Team   W   L   W/L%  Finish   SRS  Pace  Rel_Pace  \\\n",
      "1  2016-17  NBA  Boston Celtics  53  29  0.646       1  2.25  96.8       0.4   \n",
      "2  2015-16  NBA  Boston Celtics  48  34  0.585       2  2.84  98.5       2.7   \n",
      "3  2014-15  NBA  Boston Celtics  40  42  0.488       2 -0.40  95.8       1.9   \n",
      "5  2012-13  NBA  Boston Celtics  41  40  0.506       3 -0.62  91.7      -0.3   \n",
      "6  2011-12  NBA  Boston Celtics  39  27  0.591       1  2.26  90.4      -0.9   \n",
      "\n",
      "    ORtg  Rel_ORtg   DRtg  Rel_DRtg                Playoffs  \\\n",
      "1  111.2       2.4  108.4      -0.4    Lost E. Conf. Finals   \n",
      "2  106.8       0.4  103.6      -2.8  Lost E. Conf. 1st Rnd.   \n",
      "3  104.7      -0.9  104.5      -1.1  Lost E. Conf. 1st Rnd.   \n",
      "5  103.1      -2.8  103.3      -2.6  Lost E. Conf. 1st Rnd.   \n",
      "6  101.0      -3.6   98.2      -6.4    Lost E. Conf. Finals   \n",
      "\n",
      "              Coaches            Top WS  \n",
      "1  B. Stevens (53-29)  I. Thomas (12.5)  \n",
      "2  B. Stevens (48-34)   I. Thomas (9.7)  \n",
      "3  B. Stevens (40-42)   T. Zeller (6.5)  \n",
      "5   D. Rivers (41-40)   P. Pierce (7.2)  \n",
      "6   D. Rivers (39-27)   P. Pierce (7.0)  \n"
     ]
    },
    {
     "name": "stderr",
     "output_type": "stream",
     "text": [
      "/Users/andrewmckinnon2/anaconda3/lib/python3.6/site-packages/pandas/core/indexing.py:477: SettingWithCopyWarning: \n",
      "A value is trying to be set on a copy of a slice from a DataFrame.\n",
      "Try using .loc[row_indexer,col_indexer] = value instead\n",
      "\n",
      "See the caveats in the documentation: http://pandas.pydata.org/pandas-docs/stable/indexing.html#indexing-view-versus-copy\n",
      "  self.obj[item] = s\n"
     ]
    }
   ],
   "source": [
    "#Need to standardize team names for team_season_stats df\n",
    "\n",
    "#Get indices with stars in name (and remove stars) and indices of stars not in name\n",
    "teams_from_stars = team_season_stats.loc[team_season_stats['Team'].str.contains(\"\\*\")].loc[:,'Team'].str.replace(\"\\*\",\"\")\n",
    "teams_without_stars = team_season_stats.loc[team_season_stats['Team'].str.contains(\"\\*\") == False]\n",
    "\n",
    "#modify the teams rows with teams containing stars\n",
    "teams_with_stars = team_season_stats.loc[team_season_stats['Team'].str.contains(\"\\*\")]\n",
    "teams_with_stars.loc[:,'Team'] = teams_from_stars\n",
    "\n",
    "\n",
    "#join datasets and remove stars from df that has them\n",
    "cleaned_teams_data = teams_with_stars.append(teams_without_stars)\n",
    "print(len(cleaned_teams_data))\n",
    "print(cleaned_teams_data.head())"
   ]
  }
 ],
 "metadata": {
  "kernelspec": {
   "display_name": "Python 3",
   "language": "python",
   "name": "python3"
  },
  "language_info": {
   "codemirror_mode": {
    "name": "ipython",
    "version": 3
   },
   "file_extension": ".py",
   "mimetype": "text/x-python",
   "name": "python",
   "nbconvert_exporter": "python",
   "pygments_lexer": "ipython3",
   "version": "3.6.0"
  }
 },
 "nbformat": 4,
 "nbformat_minor": 2
}
